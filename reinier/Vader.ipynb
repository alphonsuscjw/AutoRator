{
 "cells": [
  {
   "cell_type": "code",
   "execution_count": 9,
   "outputs": [
    {
     "name": "stdout",
     "output_type": "stream",
     "text": [
      "   sentiment stars\n",
      "0     0.8689   1.0\n",
      "1     0.9910   1.0\n",
      "2    -0.8337   1.0\n",
      "3    -0.3773   1.0\n",
      "4    -0.3129   1.0\n",
      "5    -0.1531   1.0\n",
      "6    -0.1779   1.0\n",
      "7    -0.6371   1.0\n",
      "8    -0.9584   1.0\n",
      "9    -0.6908   1.0\n"
     ]
    }
   ],
   "source": [
    "import csv\n",
    "import pandas as pd\n",
    "from nltk.sentiment.vader import SentimentIntensityAnalyzer\n",
    "\n",
    "sid = SentimentIntensityAnalyzer()\n",
    "\n",
    "output_rows = []\n",
    "\n",
    "\n",
    "with open('yelp_dataset/subset_75000_rest.csv', 'r') as file:\n",
    "    reader = csv.DictReader(file)\n",
    "\n",
    "    for row in reader:\n",
    "        review = row['text']\n",
    "        stars = row['stars']\n",
    "        sentiment_score = sid.polarity_scores(review)['compound']\n",
    "        output_row = {'sentiment': sentiment_score, 'stars': stars}\n",
    "        output_rows.append(output_row)\n",
    "\n",
    "\n",
    "output_df = pd.DataFrame(output_rows)\n",
    "\n",
    "print(output_df.head(10))\n",
    "output_df.to_csv('vader.csv')"
   ],
   "metadata": {
    "collapsed": false
   }
  },
  {
   "cell_type": "code",
   "execution_count": 10,
   "outputs": [],
   "source": [
    "output_df.to_csv('vader.csv')"
   ],
   "metadata": {
    "collapsed": false
   }
  },
  {
   "cell_type": "code",
   "execution_count": null,
   "outputs": [],
   "source": [],
   "metadata": {
    "collapsed": false
   }
  }
 ],
 "metadata": {
  "kernelspec": {
   "display_name": "Python 3",
   "language": "python",
   "name": "python3"
  },
  "language_info": {
   "codemirror_mode": {
    "name": "ipython",
    "version": 2
   },
   "file_extension": ".py",
   "mimetype": "text/x-python",
   "name": "python",
   "nbconvert_exporter": "python",
   "pygments_lexer": "ipython2",
   "version": "2.7.6"
  }
 },
 "nbformat": 4,
 "nbformat_minor": 0
}

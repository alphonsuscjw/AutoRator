{
 "cells": [
  {
   "cell_type": "code",
   "execution_count": 1,
   "metadata": {
    "collapsed": true
   },
   "outputs": [],
   "source": [
    "from sklearn.model_selection import train_test_split\n",
    "from sklearn.preprocessing import StandardScaler\n",
    "import pandas as pd\n",
    "# import tensorflow as tf\n",
    "from sklearn.feature_extraction.text import CountVectorizer\n",
    "from sklearn.neural_network import MLPClassifier\n",
    "import string\n",
    "from nltk.corpus import stopwords\n",
    "from nltk.tokenize import word_tokenize\n",
    "import nltk\n"
   ]
  },
  {
   "cell_type": "code",
   "execution_count": 2,
   "outputs": [
    {
     "name": "stderr",
     "output_type": "stream",
     "text": [
      "[nltk_data] Downloading package stopwords to\n",
      "[nltk_data]     /Users/reinier/nltk_data...\n",
      "[nltk_data]   Package stopwords is already up-to-date!\n",
      "[nltk_data] Downloading package punkt to /Users/reinier/nltk_data...\n",
      "[nltk_data]   Package punkt is already up-to-date!\n"
     ]
    }
   ],
   "source": [
    "nltk.download('stopwords')\n",
    "nltk.download('punkt')\n",
    "stop_words = set(stopwords.words('english'))\n",
    "# translator = str.maketrans('', '', string.punctuation)\n"
   ],
   "metadata": {
    "collapsed": false
   }
  },
  {
   "cell_type": "code",
   "execution_count": 4,
   "outputs": [],
   "source": [
    "# Load EmoLex\n",
    "emolex_df = pd.read_csv('data/NRC-Emotion-Lexicon-Wordlevel-v0.92.txt', sep='\\t', names=['word', 'emotion','association'])\n",
    "emolex_df = emolex_df.dropna()\n",
    "emolex_df = emolex_df[emolex_df.association == 1]\n",
    "emolex_words = emolex_df.pivot(index='word', columns='emotion', values='association')\n",
    "emolex_words = emolex_words.reset_index()\n"
   ],
   "metadata": {
    "collapsed": false
   }
  },
  {
   "cell_type": "code",
   "execution_count": 5,
   "outputs": [],
   "source": [
    "# emotions = emolex_df['emotion'].unique()\n",
    "# emolex_words = emolex_df.pivot(index='word',\n",
    "#                                columns='emotion')\n",
    "# emolex_words.head()"
   ],
   "metadata": {
    "collapsed": false
   }
  },
  {
   "cell_type": "code",
   "execution_count": 8,
   "outputs": [
    {
     "data": {
      "text/plain": "   Unnamed: 0               review_id  \\\n0           0  fj7N9Lp6AvEEy6LHrDZzjw   \n1           1  YX2cFHDxlUfGnQ8bHPq4cA   \n2           2  pDN3hRBarmGWXbK64A83MA   \n3           3  ae5On6KCPiglMQJ--1JcTQ   \n4           4  i5jMeyoJSbUrQ7T-AU22_A   \n\n                                                text  stars  positive  \\\n0  When I was shown to my seat of was still wet s...      2     0.036   \n1  Not Impressed at all. Ordered a omelette and b...      1     0.078   \n2  never coming back here again. all of the glass...      1     0.065   \n3  I don't recommend this place for breakfast. Th...      2     0.000   \n4  Well, lots to say. Managers were busy makin co...      1     0.124   \n\n   neutral  negative  compound_sentiment  newstar  anger  anticipation  \\\n0    0.846     0.118             -0.6437        1    0.0           1.0   \n1    0.715     0.207             -0.8337        1    0.0           1.0   \n2    0.865     0.070             -0.3773        1    0.0           1.0   \n3    0.860     0.140             -0.7672        1    0.0           1.0   \n4    0.741     0.134             -0.3129        1    2.0           4.0   \n\n   disgust  fear  joy  negative.1  positive.1  sadness  surprise  trust  \\\n0      0.0   0.0  0.0         1.0         2.0      1.0       0.0    1.0   \n1      1.0   1.0  1.0         3.0         2.0      3.0       0.0    1.0   \n2      3.0   1.0  1.0         7.0         2.0      2.0       0.0    1.0   \n3      0.0   0.0  3.0         3.0         6.0      0.0       1.0    3.0   \n4      2.0   1.0  1.0         4.0         3.0      1.0       0.0    1.0   \n\n   word_count  \n0        26.0  \n1        33.0  \n2        64.0  \n3        23.0  \n4        60.0  ",
      "text/html": "<div>\n<style scoped>\n    .dataframe tbody tr th:only-of-type {\n        vertical-align: middle;\n    }\n\n    .dataframe tbody tr th {\n        vertical-align: top;\n    }\n\n    .dataframe thead th {\n        text-align: right;\n    }\n</style>\n<table border=\"1\" class=\"dataframe\">\n  <thead>\n    <tr style=\"text-align: right;\">\n      <th></th>\n      <th>Unnamed: 0</th>\n      <th>review_id</th>\n      <th>text</th>\n      <th>stars</th>\n      <th>positive</th>\n      <th>neutral</th>\n      <th>negative</th>\n      <th>compound_sentiment</th>\n      <th>newstar</th>\n      <th>anger</th>\n      <th>anticipation</th>\n      <th>disgust</th>\n      <th>fear</th>\n      <th>joy</th>\n      <th>negative.1</th>\n      <th>positive.1</th>\n      <th>sadness</th>\n      <th>surprise</th>\n      <th>trust</th>\n      <th>word_count</th>\n    </tr>\n  </thead>\n  <tbody>\n    <tr>\n      <th>0</th>\n      <td>0</td>\n      <td>fj7N9Lp6AvEEy6LHrDZzjw</td>\n      <td>When I was shown to my seat of was still wet s...</td>\n      <td>2</td>\n      <td>0.036</td>\n      <td>0.846</td>\n      <td>0.118</td>\n      <td>-0.6437</td>\n      <td>1</td>\n      <td>0.0</td>\n      <td>1.0</td>\n      <td>0.0</td>\n      <td>0.0</td>\n      <td>0.0</td>\n      <td>1.0</td>\n      <td>2.0</td>\n      <td>1.0</td>\n      <td>0.0</td>\n      <td>1.0</td>\n      <td>26.0</td>\n    </tr>\n    <tr>\n      <th>1</th>\n      <td>1</td>\n      <td>YX2cFHDxlUfGnQ8bHPq4cA</td>\n      <td>Not Impressed at all. Ordered a omelette and b...</td>\n      <td>1</td>\n      <td>0.078</td>\n      <td>0.715</td>\n      <td>0.207</td>\n      <td>-0.8337</td>\n      <td>1</td>\n      <td>0.0</td>\n      <td>1.0</td>\n      <td>1.0</td>\n      <td>1.0</td>\n      <td>1.0</td>\n      <td>3.0</td>\n      <td>2.0</td>\n      <td>3.0</td>\n      <td>0.0</td>\n      <td>1.0</td>\n      <td>33.0</td>\n    </tr>\n    <tr>\n      <th>2</th>\n      <td>2</td>\n      <td>pDN3hRBarmGWXbK64A83MA</td>\n      <td>never coming back here again. all of the glass...</td>\n      <td>1</td>\n      <td>0.065</td>\n      <td>0.865</td>\n      <td>0.070</td>\n      <td>-0.3773</td>\n      <td>1</td>\n      <td>0.0</td>\n      <td>1.0</td>\n      <td>3.0</td>\n      <td>1.0</td>\n      <td>1.0</td>\n      <td>7.0</td>\n      <td>2.0</td>\n      <td>2.0</td>\n      <td>0.0</td>\n      <td>1.0</td>\n      <td>64.0</td>\n    </tr>\n    <tr>\n      <th>3</th>\n      <td>3</td>\n      <td>ae5On6KCPiglMQJ--1JcTQ</td>\n      <td>I don't recommend this place for breakfast. Th...</td>\n      <td>2</td>\n      <td>0.000</td>\n      <td>0.860</td>\n      <td>0.140</td>\n      <td>-0.7672</td>\n      <td>1</td>\n      <td>0.0</td>\n      <td>1.0</td>\n      <td>0.0</td>\n      <td>0.0</td>\n      <td>3.0</td>\n      <td>3.0</td>\n      <td>6.0</td>\n      <td>0.0</td>\n      <td>1.0</td>\n      <td>3.0</td>\n      <td>23.0</td>\n    </tr>\n    <tr>\n      <th>4</th>\n      <td>4</td>\n      <td>i5jMeyoJSbUrQ7T-AU22_A</td>\n      <td>Well, lots to say. Managers were busy makin co...</td>\n      <td>1</td>\n      <td>0.124</td>\n      <td>0.741</td>\n      <td>0.134</td>\n      <td>-0.3129</td>\n      <td>1</td>\n      <td>2.0</td>\n      <td>4.0</td>\n      <td>2.0</td>\n      <td>1.0</td>\n      <td>1.0</td>\n      <td>4.0</td>\n      <td>3.0</td>\n      <td>1.0</td>\n      <td>0.0</td>\n      <td>1.0</td>\n      <td>60.0</td>\n    </tr>\n  </tbody>\n</table>\n</div>"
     },
     "execution_count": 8,
     "metadata": {},
     "output_type": "execute_result"
    }
   ],
   "source": [
    "path = \"data/subset_2000.csv\"\n",
    "reviews_df = pd.read_csv(path,sep=',')\n",
    "reviews_df.head()"
   ],
   "metadata": {
    "collapsed": false
   }
  },
  {
   "cell_type": "code",
   "execution_count": 9,
   "outputs": [],
   "source": [
    "def count_emotions(text):\n",
    "    translator = str.maketrans('', '', string.punctuation)\n",
    "    text = text.translate(translator).lower()\n",
    "    words = word_tokenize(text)\n",
    "    emotions_count = emolex_words[emolex_words.word.isin(words)].sum()\n",
    "    emotions_count['word_count'] = len(words)\n",
    "\n",
    "    return emotions_count\n",
    "\n",
    "    # words = [word for word in words if word.lower() not in stop_words]\n",
    "    # return words"
   ],
   "metadata": {
    "collapsed": false
   }
  },
  {
   "cell_type": "code",
   "execution_count": 10,
   "outputs": [],
   "source": [
    "documents = ['Text good bad scary danger  1', 'yummy nice !!!disgusting hate', 'This Restaurant was amazing! bad and good test for yummy']\n",
    "emotions_count = [count_emotions(doc) for doc in documents]"
   ],
   "metadata": {
    "collapsed": false
   }
  },
  {
   "cell_type": "code",
   "execution_count": 11,
   "outputs": [
    {
     "name": "stdout",
     "output_type": "stream",
     "text": [
      "emotion                                                       word  anger  \\\n",
      "Text good bad scary danger  1                        baddangergood    1.0   \n",
      "yummy nice !!!disgusting hate                       disgustinghate    2.0   \n",
      "This Restaurant was amazing! bad and good test ...         badgood    1.0   \n",
      "\n",
      "emotion                                             anticipation  disgust  \\\n",
      "Text good bad scary danger  1                                1.0      1.0   \n",
      "yummy nice !!!disgusting hate                                0.0      2.0   \n",
      "This Restaurant was amazing! bad and good test ...           1.0      1.0   \n",
      "\n",
      "emotion                                             fear  joy  negative  \\\n",
      "Text good bad scary danger  1                        2.0  1.0       2.0   \n",
      "yummy nice !!!disgusting hate                        2.0  0.0       2.0   \n",
      "This Restaurant was amazing! bad and good test ...   1.0  1.0       1.0   \n",
      "\n",
      "emotion                                             positive  sadness  \\\n",
      "Text good bad scary danger  1                            1.0      2.0   \n",
      "yummy nice !!!disgusting hate                            0.0      1.0   \n",
      "This Restaurant was amazing! bad and good test ...       1.0      1.0   \n",
      "\n",
      "emotion                                             surprise  trust  \\\n",
      "Text good bad scary danger  1                            1.0    1.0   \n",
      "yummy nice !!!disgusting hate                            0.0    0.0   \n",
      "This Restaurant was amazing! bad and good test ...       1.0    1.0   \n",
      "\n",
      "emotion                                             word_count  \n",
      "Text good bad scary danger  1                                6  \n",
      "yummy nice !!!disgusting hate                                4  \n",
      "This Restaurant was amazing! bad and good test ...          10  \n"
     ]
    }
   ],
   "source": [
    "df = pd.DataFrame(emotions_count)\n",
    "df.index = documents\n",
    "\n",
    "print(df)"
   ],
   "metadata": {
    "collapsed": false
   }
  },
  {
   "cell_type": "markdown",
   "source": [],
   "metadata": {
    "collapsed": false
   }
  },
  {
   "cell_type": "code",
   "execution_count": 7,
   "outputs": [
    {
     "data": {
      "text/plain": "['restaurant', 'amazing', 'bad', 'good', 'test', 'yummy']"
     },
     "execution_count": 7,
     "metadata": {},
     "output_type": "execute_result"
    }
   ],
   "source": [
    "text = \"This Restaurant was amazing! bad and good test for yummy\"\n",
    "clean_text = remove_unnecessary(text)\n",
    "clean_text"
   ],
   "metadata": {
    "collapsed": false
   }
  },
  {
   "cell_type": "code",
   "execution_count": 14,
   "outputs": [
    {
     "data": {
      "text/plain": "[]"
     },
     "execution_count": 14,
     "metadata": {},
     "output_type": "execute_result"
    }
   ],
   "source": [
    "results = pd.DataFrame(columns= ['anger', 'anticipation', 'disgust', 'fear', 'joy', 'negative',\n",
    "                                 'positive', 'sadness', 'surprise', 'trust'])\n",
    "\n",
    "for word in clean_text:\n",
    "    if word in emolex_words:\n",
    "        results.append(word)\n",
    "\n",
    "results"
   ],
   "metadata": {
    "collapsed": false
   }
  },
  {
   "cell_type": "code",
   "execution_count": null,
   "outputs": [],
   "source": [],
   "metadata": {
    "collapsed": false
   }
  }
 ],
 "metadata": {
  "kernelspec": {
   "display_name": "Python 3",
   "language": "python",
   "name": "python3"
  },
  "language_info": {
   "codemirror_mode": {
    "name": "ipython",
    "version": 2
   },
   "file_extension": ".py",
   "mimetype": "text/x-python",
   "name": "python",
   "nbconvert_exporter": "python",
   "pygments_lexer": "ipython2",
   "version": "2.7.6"
  }
 },
 "nbformat": 4,
 "nbformat_minor": 0
}

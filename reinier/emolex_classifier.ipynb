{
 "cells": [
  {
   "cell_type": "code",
   "execution_count": 2,
   "outputs": [],
   "source": [
    "import string\n",
    "import pandas as pd\n",
    "from nltk.corpus import stopwords"
   ],
   "metadata": {
    "collapsed": false
   }
  },
  {
   "cell_type": "code",
   "execution_count": 3,
   "outputs": [],
   "source": [
    "emolex_df = pd.read_csv('data/NRC-Emotion-Lexicon-Wordlevel-v0.92.txt', sep='\\t', names=['word', 'emotion','association'])\n",
    "emolex_df = emolex_df[emolex_df.association == 1]\n",
    "emolex_words = emolex_df.pivot(index='word', columns='emotion', values='association')\n",
    "emolex_words = emolex_words.reset_index()"
   ],
   "metadata": {
    "collapsed": false
   }
  },
  {
   "cell_type": "code",
   "execution_count": 4,
   "outputs": [],
   "source": [
    "def count_emotions(text):\n",
    "\n",
    "    text = text.translate(str.maketrans('', '', string.punctuation)).lower()\n",
    "    words = text.split()\n",
    "    stop_words = set(stopwords.words('english'))\n",
    "\n",
    "    words = [word for word in words if word not in stop_words]\n",
    "    emotions_count = emolex_words[emolex_words.word.isin(words)].sum()\n",
    "    emotions_count['word_count'] = len(words)\n",
    "\n",
    "    return emotions_count"
   ],
   "metadata": {
    "collapsed": false
   }
  },
  {
   "cell_type": "code",
   "execution_count": 5,
   "outputs": [],
   "source": [
    "yelp_df = pd.read_csv('yelp_dataset/subset_75000_rest.csv')"
   ],
   "metadata": {
    "collapsed": false
   }
  },
  {
   "cell_type": "code",
   "execution_count": 7,
   "outputs": [
    {
     "name": "stdout",
     "output_type": "stream",
     "text": [
      "       stars                                               word  anger  \\\n",
      "0        1.0              deplorablefoodgoodhorribleimmediately    2.0   \n",
      "1        1.0  accurateadviceattentivecoldfairlyfoodfriendlyf...    0.0   \n",
      "2        1.0  disappointingdisappointmentfoodforgottenreceiv...    0.0   \n",
      "3        1.0  bothercleaningcloudycomingcrustydirtydrinkingd...    0.0   \n",
      "4        1.0  comingdirtyfairfoodhearinghotmajormiserablemot...    2.0   \n",
      "...      ...                                                ...    ...   \n",
      "74995    5.0            bartenderdinnerdyingfungoodmissingsmack    2.0   \n",
      "74996    5.0                      foodgoodlongneighborhoodoffer    0.0   \n",
      "74997    5.0                                       beergoodlove    0.0   \n",
      "74998    5.0                badkinglongoutstandingrackvisitwait    1.0   \n",
      "74999    5.0                                 dinnerfavoritehype    0.0   \n",
      "\n",
      "       anticipation  disgust  fear  joy  negative  positive  sadness  \\\n",
      "0               2.0      2.0   2.0  2.0       3.0       3.0      1.0   \n",
      "1               4.0      1.0   0.0  5.0       4.0      11.0      2.0   \n",
      "2               1.0      1.0   1.0  1.0       3.0       2.0      3.0   \n",
      "3               1.0      3.0   1.0  1.0       7.0       2.0      2.0   \n",
      "4               4.0      2.0   1.0  1.0       4.0       3.0      1.0   \n",
      "...             ...      ...   ...  ...       ...       ...      ...   \n",
      "74995           2.0      1.0   2.0  2.0       3.0       3.0      2.0   \n",
      "74996           3.0      0.0   0.0  2.0       0.0       3.0      0.0   \n",
      "74997           1.0      0.0   0.0  3.0       0.0       3.0      0.0   \n",
      "74998           2.0      1.0   1.0  1.0       4.0       3.0      2.0   \n",
      "74999           1.0      0.0   0.0  1.0       1.0       2.0      0.0   \n",
      "\n",
      "       surprise  trust  word_count  \n",
      "0           1.0    2.0        38.0  \n",
      "1           1.0    8.0       114.0  \n",
      "2           0.0    1.0        33.0  \n",
      "3           0.0    1.0        64.0  \n",
      "4           0.0    1.0        60.0  \n",
      "...         ...    ...         ...  \n",
      "74995       1.0    2.0        28.0  \n",
      "74996       1.0    2.0        25.0  \n",
      "74997       1.0    1.0        13.0  \n",
      "74998       0.0    0.0        36.0  \n",
      "74999       0.0    1.0        18.0  \n",
      "\n",
      "[75000 rows x 13 columns]\n"
     ]
    }
   ],
   "source": [
    "emotions_count = yelp_df['text'].apply(count_emotions)\n",
    "yelp_emolex = pd.concat([yelp_df[['stars']], emotions_count], axis=1)\n",
    "print(yelp_emolex)\n"
   ],
   "metadata": {
    "collapsed": false
   }
  },
  {
   "cell_type": "code",
   "execution_count": 9,
   "outputs": [],
   "source": [
    "yelp_emolex.to_csv('yelp_dataset/yelp_emolex.csv')"
   ],
   "metadata": {
    "collapsed": false
   }
  },
  {
   "cell_type": "code",
   "execution_count": null,
   "outputs": [],
   "source": [],
   "metadata": {
    "collapsed": false
   }
  }
 ],
 "metadata": {
  "kernelspec": {
   "display_name": "Python 3",
   "language": "python",
   "name": "python3"
  },
  "language_info": {
   "codemirror_mode": {
    "name": "ipython",
    "version": 2
   },
   "file_extension": ".py",
   "mimetype": "text/x-python",
   "name": "python",
   "nbconvert_exporter": "python",
   "pygments_lexer": "ipython2",
   "version": "2.7.6"
  }
 },
 "nbformat": 4,
 "nbformat_minor": 0
}

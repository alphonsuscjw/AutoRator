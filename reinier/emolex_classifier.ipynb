{
 "cells": [
  {
   "cell_type": "code",
   "execution_count": 13,
   "metadata": {
    "collapsed": true
   },
   "outputs": [],
   "source": [
    "from sklearn.model_selection import train_test_split\n",
    "from sklearn.preprocessing import StandardScaler\n",
    "import pandas as pd\n",
    "# import tensorflow as tf\n",
    "from sklearn.feature_extraction.text import CountVectorizer\n",
    "from sklearn.neural_network import MLPClassifier\n",
    "import string\n",
    "from nltk.corpus import stopwords\n",
    "from nltk.tokenize import word_tokenize\n",
    "import nltk\n"
   ]
  },
  {
   "cell_type": "code",
   "execution_count": 23,
   "outputs": [
    {
     "name": "stderr",
     "output_type": "stream",
     "text": [
      "[nltk_data] Downloading package stopwords to\n",
      "[nltk_data]     /Users/reinier/nltk_data...\n",
      "[nltk_data]   Package stopwords is already up-to-date!\n",
      "[nltk_data] Downloading package punkt to /Users/reinier/nltk_data...\n",
      "[nltk_data]   Unzipping tokenizers/punkt.zip.\n"
     ]
    }
   ],
   "source": [
    "nltk.download('stopwords')\n",
    "nltk.download('punkt')\n",
    "stop_words = set(stopwords.words('english'))\n",
    "# translator = str.maketrans('', '', string.punctuation)\n"
   ],
   "metadata": {
    "collapsed": false
   }
  },
  {
   "cell_type": "code",
   "execution_count": 15,
   "outputs": [],
   "source": [
    "# Load EmoLex\n",
    "emolex_df = pd.read_csv('emolex/NRC-Emotion-Lexicon-Wordlevel-v0.92.txt', sep='\\t', names=['word', 'emotion','association'])\n"
   ],
   "metadata": {
    "collapsed": false
   }
  },
  {
   "cell_type": "code",
   "execution_count": 18,
   "outputs": [
    {
     "data": {
      "text/plain": "          association                                                          \\\nemotion         anger anticipation disgust fear joy negative positive sadness   \nword                                                                            \nNaN                 0            0       0    0   0        0        0       0   \naback               0            0       0    0   0        0        0       0   \nabacus              0            0       0    0   0        0        0       0   \nabandon             0            0       0    1   0        1        0       1   \nabandoned           1            0       0    1   0        1        0       1   \n\n                          \nemotion   surprise trust  \nword                      \nNaN              0     0  \naback            0     0  \nabacus           0     1  \nabandon          0     0  \nabandoned        0     0  ",
      "text/html": "<div>\n<style scoped>\n    .dataframe tbody tr th:only-of-type {\n        vertical-align: middle;\n    }\n\n    .dataframe tbody tr th {\n        vertical-align: top;\n    }\n\n    .dataframe thead tr th {\n        text-align: left;\n    }\n\n    .dataframe thead tr:last-of-type th {\n        text-align: right;\n    }\n</style>\n<table border=\"1\" class=\"dataframe\">\n  <thead>\n    <tr>\n      <th></th>\n      <th colspan=\"10\" halign=\"left\">association</th>\n    </tr>\n    <tr>\n      <th>emotion</th>\n      <th>anger</th>\n      <th>anticipation</th>\n      <th>disgust</th>\n      <th>fear</th>\n      <th>joy</th>\n      <th>negative</th>\n      <th>positive</th>\n      <th>sadness</th>\n      <th>surprise</th>\n      <th>trust</th>\n    </tr>\n    <tr>\n      <th>word</th>\n      <th></th>\n      <th></th>\n      <th></th>\n      <th></th>\n      <th></th>\n      <th></th>\n      <th></th>\n      <th></th>\n      <th></th>\n      <th></th>\n    </tr>\n  </thead>\n  <tbody>\n    <tr>\n      <th>NaN</th>\n      <td>0</td>\n      <td>0</td>\n      <td>0</td>\n      <td>0</td>\n      <td>0</td>\n      <td>0</td>\n      <td>0</td>\n      <td>0</td>\n      <td>0</td>\n      <td>0</td>\n    </tr>\n    <tr>\n      <th>aback</th>\n      <td>0</td>\n      <td>0</td>\n      <td>0</td>\n      <td>0</td>\n      <td>0</td>\n      <td>0</td>\n      <td>0</td>\n      <td>0</td>\n      <td>0</td>\n      <td>0</td>\n    </tr>\n    <tr>\n      <th>abacus</th>\n      <td>0</td>\n      <td>0</td>\n      <td>0</td>\n      <td>0</td>\n      <td>0</td>\n      <td>0</td>\n      <td>0</td>\n      <td>0</td>\n      <td>0</td>\n      <td>1</td>\n    </tr>\n    <tr>\n      <th>abandon</th>\n      <td>0</td>\n      <td>0</td>\n      <td>0</td>\n      <td>1</td>\n      <td>0</td>\n      <td>1</td>\n      <td>0</td>\n      <td>1</td>\n      <td>0</td>\n      <td>0</td>\n    </tr>\n    <tr>\n      <th>abandoned</th>\n      <td>1</td>\n      <td>0</td>\n      <td>0</td>\n      <td>1</td>\n      <td>0</td>\n      <td>1</td>\n      <td>0</td>\n      <td>1</td>\n      <td>0</td>\n      <td>0</td>\n    </tr>\n  </tbody>\n</table>\n</div>"
     },
     "execution_count": 18,
     "metadata": {},
     "output_type": "execute_result"
    }
   ],
   "source": [
    "emotions = emolex_df['emotion'].unique()\n",
    "emolex_words = emolex_df.pivot(index='word',\n",
    "                               columns='emotion')\n",
    "emolex_words.head()"
   ],
   "metadata": {
    "collapsed": false
   }
  },
  {
   "cell_type": "code",
   "execution_count": 20,
   "outputs": [
    {
     "data": {
      "text/plain": "   Unnamed: 0             business_id  stars  useful  \\\n0     1295256  8yR12PNSMo6FBYx1u5KPlw    2.0       1   \n1     3297618  pBNucviUkNsiqhJv5IFpjg    5.0       0   \n2     1217795  8sf9kv6O4GgEb0j1o22N1g    5.0       0   \n3     3730348  XwepyB7KjJ-XGJf0vKc6Vg    4.0       0   \n4     1826590  prm5wvpp0OHJBlrvTj9uOg    5.0       0   \n\n                                                text  \n0  Went for lunch and found that my burger was me...  \n1  I needed a new tires for my wife's car. They h...  \n2  Jim Woltman who works at Goleta Honda is 5 sta...  \n3  Been here a few times to get some shrimp.  The...  \n4  This is one fantastic place to eat whether you...  ",
      "text/html": "<div>\n<style scoped>\n    .dataframe tbody tr th:only-of-type {\n        vertical-align: middle;\n    }\n\n    .dataframe tbody tr th {\n        vertical-align: top;\n    }\n\n    .dataframe thead th {\n        text-align: right;\n    }\n</style>\n<table border=\"1\" class=\"dataframe\">\n  <thead>\n    <tr style=\"text-align: right;\">\n      <th></th>\n      <th>Unnamed: 0</th>\n      <th>business_id</th>\n      <th>stars</th>\n      <th>useful</th>\n      <th>text</th>\n    </tr>\n  </thead>\n  <tbody>\n    <tr>\n      <th>0</th>\n      <td>1295256</td>\n      <td>8yR12PNSMo6FBYx1u5KPlw</td>\n      <td>2.0</td>\n      <td>1</td>\n      <td>Went for lunch and found that my burger was me...</td>\n    </tr>\n    <tr>\n      <th>1</th>\n      <td>3297618</td>\n      <td>pBNucviUkNsiqhJv5IFpjg</td>\n      <td>5.0</td>\n      <td>0</td>\n      <td>I needed a new tires for my wife's car. They h...</td>\n    </tr>\n    <tr>\n      <th>2</th>\n      <td>1217795</td>\n      <td>8sf9kv6O4GgEb0j1o22N1g</td>\n      <td>5.0</td>\n      <td>0</td>\n      <td>Jim Woltman who works at Goleta Honda is 5 sta...</td>\n    </tr>\n    <tr>\n      <th>3</th>\n      <td>3730348</td>\n      <td>XwepyB7KjJ-XGJf0vKc6Vg</td>\n      <td>4.0</td>\n      <td>0</td>\n      <td>Been here a few times to get some shrimp.  The...</td>\n    </tr>\n    <tr>\n      <th>4</th>\n      <td>1826590</td>\n      <td>prm5wvpp0OHJBlrvTj9uOg</td>\n      <td>5.0</td>\n      <td>0</td>\n      <td>This is one fantastic place to eat whether you...</td>\n    </tr>\n  </tbody>\n</table>\n</div>"
     },
     "execution_count": 20,
     "metadata": {},
     "output_type": "execute_result"
    }
   ],
   "source": [
    "path = \"yelp_dataset/reviews_subset.csv\"\n",
    "reviews_df = pd.read_csv(path,sep=',')\n",
    "reviews_df.head()"
   ],
   "metadata": {
    "collapsed": false
   }
  },
  {
   "cell_type": "code",
   "execution_count": 21,
   "outputs": [],
   "source": [
    "def remove_unnecessary(text):\n",
    "    translator = str.maketrans('', '', string.punctuation)\n",
    "    text = text.translate(translator)\n",
    "    words = word_tokenize(text)\n",
    "    words = [word for word in words if word.lower() not in stop_words]\n",
    "    return words"
   ],
   "metadata": {
    "collapsed": false
   }
  },
  {
   "cell_type": "code",
   "execution_count": 24,
   "outputs": [
    {
     "data": {
      "text/plain": "['restaurant', 'amazing', 'bad', 'good']"
     },
     "execution_count": 24,
     "metadata": {},
     "output_type": "execute_result"
    }
   ],
   "source": [
    "text = \"This restaurant was amazing! bad and good\"\n",
    "clean_text = remove_unnecessary(text)\n",
    "clean_text"
   ],
   "metadata": {
    "collapsed": false
   }
  },
  {
   "cell_type": "code",
   "execution_count": null,
   "outputs": [],
   "source": [],
   "metadata": {
    "collapsed": false
   }
  }
 ],
 "metadata": {
  "kernelspec": {
   "display_name": "Python 3",
   "language": "python",
   "name": "python3"
  },
  "language_info": {
   "codemirror_mode": {
    "name": "ipython",
    "version": 2
   },
   "file_extension": ".py",
   "mimetype": "text/x-python",
   "name": "python",
   "nbconvert_exporter": "python",
   "pygments_lexer": "ipython2",
   "version": "2.7.6"
  }
 },
 "nbformat": 4,
 "nbformat_minor": 0
}

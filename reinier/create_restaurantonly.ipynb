{
 "cells": [
  {
   "cell_type": "code",
   "execution_count": 2,
   "outputs": [],
   "source": [
    "import json\n",
    "import csv\n",
    "import pandas as pd\n",
    "from pathlib import Path\n"
   ],
   "metadata": {
    "collapsed": false
   }
  },
  {
   "cell_type": "code",
   "execution_count": 3,
   "outputs": [],
   "source": [
    "# select only the restaurants in business dataset\n",
    "filePath = Path(\"data/yelp_dataset/yelp_academic_dataset_business.json\")\n",
    "df_business = pd.read_json(filePath,lines=True)\n",
    "\n",
    "df_restaurants = df_business[df_business['categories'].str.contains('Restaurants',na=False)]\n",
    "restaurant_ids = df_restaurants[['business_id', 'categories']]"
   ],
   "metadata": {
    "collapsed": false
   }
  },
  {
   "cell_type": "code",
   "execution_count": 4,
   "outputs": [],
   "source": [
    "# read 1.000,000 records from original review dataset\n",
    "review_data = []\n",
    "counter = 0\n",
    "filePath = Path('data/yelp_dataset/yelp_academic_dataset_review.json')\n",
    "with open(filePath, encoding=\"utf-8\") as file:\n",
    "    for line in file:\n",
    "        if counter < 2000000:\n",
    "            review_data.append(json.loads(line))\n",
    "            counter += 1\n",
    "        else:\n",
    "            break\n",
    "\n",
    "df_review = pd.DataFrame(review_data)"
   ],
   "metadata": {
    "collapsed": false
   }
  },
  {
   "cell_type": "code",
   "execution_count": 5,
   "outputs": [],
   "source": [
    "# merge and remove any duplicate reviews\n",
    "reviews_restaurants = df_review.merge(restaurant_ids, on='business_id')\n",
    "reviews_restaurants = reviews_restaurants.set_index('review_id')\n",
    "reviews_restaurants = reviews_restaurants[~reviews_restaurants.index.duplicated(keep='first')]"
   ],
   "metadata": {
    "collapsed": false
   }
  },
  {
   "cell_type": "code",
   "execution_count": 6,
   "outputs": [],
   "source": [
    "reviews_restaurants.to_csv('data/reviews_restaurants.csv')"
   ],
   "metadata": {
    "collapsed": false
   }
  },
  {
   "cell_type": "code",
   "execution_count": null,
   "outputs": [],
   "source": [],
   "metadata": {
    "collapsed": false
   }
  }
 ],
 "metadata": {
  "kernelspec": {
   "display_name": "Python 3",
   "language": "python",
   "name": "python3"
  },
  "language_info": {
   "codemirror_mode": {
    "name": "ipython",
    "version": 2
   },
   "file_extension": ".py",
   "mimetype": "text/x-python",
   "name": "python",
   "nbconvert_exporter": "python",
   "pygments_lexer": "ipython2",
   "version": "2.7.6"
  }
 },
 "nbformat": 4,
 "nbformat_minor": 0
}

{
 "cells": [
  {
   "cell_type": "code",
   "execution_count": 1,
   "metadata": {
    "collapsed": true
   },
   "outputs": [],
   "source": [
    "import pandas as pd\n",
    "import plotly.express as px\n",
    "from pathlib import Path"
   ]
  },
  {
   "cell_type": "code",
   "execution_count": 2,
   "metadata": {
    "collapsed": false
   },
   "outputs": [],
   "source": [
    "data = Path('data/vader_emolex.csv')\n",
    "df = pd.read_csv(data)"
   ]
  },
  {
   "cell_type": "code",
   "execution_count": 3,
   "metadata": {
    "collapsed": false
   },
   "outputs": [
    {
     "data": {
      "text/plain": "['review_id',\n 'text',\n 'stars',\n 'compound_sentiment',\n 'positive',\n 'neutral',\n 'negative',\n 'anger',\n 'anticipation',\n 'disgust',\n 'fear',\n 'joy',\n 'negative.1',\n 'positive.1',\n 'sadness',\n 'surprise',\n 'trust',\n 'word_count']"
     },
     "execution_count": 3,
     "metadata": {},
     "output_type": "execute_result"
    }
   ],
   "source": [
    "column_names = df.columns.tolist()\n",
    "column_names"
   ]
  },
  {
   "cell_type": "code",
   "execution_count": null,
   "metadata": {
    "collapsed": false,
    "pycharm": {
     "is_executing": true
    }
   },
   "outputs": [],
   "source": [
    "columns_to_plot = ['stars',  'anger', 'anticipation', 'disgust', 'fear', 'joy', 'negative.1', 'positive.1', 'sadness', 'surprise', 'trust']\n",
    "df_to_plot = df[columns_to_plot]\n",
    "\n",
    "# Calculate the average value for each group\n",
    "df_grouped = df_to_plot.groupby('stars').mean().reset_index()\n",
    "\n",
    "# Melt the DataFrame to prepare it for plotting\n",
    "df_melted = df_grouped.melt(id_vars='stars', var_name='variable', value_name='value')\n",
    "\n",
    "# Plot the data using Plotly\n",
    "fig3 = px.bar(df_melted, x='stars', y='value', color='variable')\n",
    "fig3.update_layout(title='Average Emolex Scores')\n",
    "fig3.show()"
   ]
  },
  {
   "cell_type": "code",
   "execution_count": null,
   "metadata": {
    "collapsed": false,
    "pycharm": {
     "is_executing": true
    }
   },
   "outputs": [],
   "source": [
    "columns_to_plot = ['stars', 'compound_sentiment', 'positive', 'neutral', 'negative']\n",
    "df_to_plot = df[columns_to_plot]\n",
    "\n",
    "# Calculate the average value for each group\n",
    "df_grouped = df_to_plot.groupby('stars').mean().reset_index()\n",
    "\n",
    "# Melt the DataFrame to prepare it for plotting\n",
    "df_melted = df_grouped.melt(id_vars='stars', var_name='variable', value_name='value')\n",
    "\n",
    "# Plot the data using Plotly\n",
    "fig2 = px.bar(df_melted, x='stars', y='value', color='variable')\n",
    "fig2.update_layout(title='Average Vader Scores')\n",
    "fig2.show()"
   ]
  },
  {
   "cell_type": "code",
   "execution_count": null,
   "metadata": {
    "collapsed": false,
    "pycharm": {
     "is_executing": true
    }
   },
   "outputs": [],
   "source": [
    "df_stars_1 = df[df['stars'] == 1]\n",
    "\n",
    "# Select the columns you want to plot\n",
    "columns_to_plot = ['compound_sentiment', 'positive', 'neutral']\n",
    "df_to_plot = df[columns_to_plot]\n",
    "\n",
    "# Melt the DataFrame to prepare it for plotting\n",
    "df_melted = df_to_plot.melt(var_name='variable', value_name='value')\n",
    "\n",
    "# Plot the data using Plotly\n",
    "fig4 = px.bar(df_melted, x='variable', y='value')\n",
    "fig4.show()"
   ]
  },
  {
   "cell_type": "code",
   "execution_count": null,
   "metadata": {
    "collapsed": false,
    "pycharm": {
     "is_executing": true
    }
   },
   "outputs": [],
   "source": []
  }
 ],
 "metadata": {
  "kernelspec": {
   "display_name": "Python 3",
   "language": "python",
   "name": "python3"
  },
  "language_info": {
   "codemirror_mode": {
    "name": "ipython",
    "version": 3
   },
   "file_extension": ".py",
   "mimetype": "text/x-python",
   "name": "python",
   "nbconvert_exporter": "python",
   "pygments_lexer": "ipython3",
   "version": "3.10.11"
  }
 },
 "nbformat": 4,
 "nbformat_minor": 0
}

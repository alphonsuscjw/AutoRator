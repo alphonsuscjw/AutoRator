{
 "cells": [
  {
   "cell_type": "code",
   "execution_count": 9,
   "outputs": [],
   "source": [
    "import string\n",
    "import pandas as pd\n",
    "from nltk.corpus import stopwords"
   ],
   "metadata": {
    "collapsed": false
   }
  },
  {
   "cell_type": "code",
   "execution_count": 10,
   "outputs": [],
   "source": [
    "# set up emolex analysis\n",
    "emolex_df = pd.read_csv('data/NRC-Emotion-Lexicon-Wordlevel-v0.92.txt', sep='\\t', names=['word', 'emotion','association'])\n",
    "emolex_df = emolex_df[emolex_df.association == 1]\n",
    "emolex_words = emolex_df.pivot(index='word', columns='emotion', values='association')\n",
    "emolex_words = emolex_words.reset_index()"
   ],
   "metadata": {
    "collapsed": false
   }
  },
  {
   "cell_type": "code",
   "execution_count": 17,
   "outputs": [],
   "source": [
    "def count_emotions(text):\n",
    "\n",
    "    text = text.translate(str.maketrans('', '', string.punctuation)).lower()\n",
    "    words = text.split()\n",
    "    stop_words = set(stopwords.words('english'))\n",
    "\n",
    "    words = [word for word in words if word not in stop_words]\n",
    "    emotions_count = emolex_words[emolex_words.word.isin(words)].sum()\n",
    "    emotions_count['word_count'] = len(words)\n",
    "\n",
    "    return emotions_count"
   ],
   "metadata": {
    "collapsed": false
   }
  },
  {
   "cell_type": "code",
   "execution_count": 19,
   "outputs": [],
   "source": [
    "# read the filtered yelp dataset (40k per star = 200k records)\n",
    "df = pd.read_csv('data/vader_newstar_df.csv')"
   ],
   "metadata": {
    "collapsed": false
   }
  },
  {
   "cell_type": "code",
   "execution_count": 20,
   "outputs": [],
   "source": [
    "# run the emolex analysis on the dataframe and add to the dataframe\n",
    "emotions_count = df['text'].apply(count_emotions)\n",
    "vader_emolex_rest = pd.concat([df, emotions_count], axis=1)"
   ],
   "metadata": {
    "collapsed": false
   }
  },
  {
   "cell_type": "code",
   "execution_count": 22,
   "outputs": [],
   "source": [
    "# set index to review id and drop columns not required\n",
    "vader_emolex_rest = vader_emolex_rest.reset_index()\n",
    "vader_emolex_rest = vader_emolex_rest.set_index('review_id')\n",
    "vader_emolex_rest.drop(['index','word'], axis=1, inplace=True)"
   ],
   "metadata": {
    "collapsed": false
   }
  },
  {
   "cell_type": "code",
   "execution_count": 23,
   "outputs": [
    {
     "data": {
      "text/plain": "                                                                     text  \\\nreview_id                                                                   \nfj7N9Lp6AvEEy6LHrDZzjw  When I was shown to my seat of was still wet s...   \nYX2cFHDxlUfGnQ8bHPq4cA  Not Impressed at all. Ordered a omelette and b...   \npDN3hRBarmGWXbK64A83MA  never coming back here again. all of the glass...   \nae5On6KCPiglMQJ--1JcTQ  I don't recommend this place for breakfast. Th...   \ni5jMeyoJSbUrQ7T-AU22_A  Well, lots to say. Managers were busy makin co...   \n\n                        sentiment  stars  newstar  anger  anticipation  \\\nreview_id                                                                \nfj7N9Lp6AvEEy6LHrDZzjw    -0.6437      2        1    0.0           1.0   \nYX2cFHDxlUfGnQ8bHPq4cA    -0.8337      1        1    0.0           1.0   \npDN3hRBarmGWXbK64A83MA    -0.3773      1        1    0.0           1.0   \nae5On6KCPiglMQJ--1JcTQ    -0.7672      2        1    0.0           1.0   \ni5jMeyoJSbUrQ7T-AU22_A    -0.3129      1        1    2.0           4.0   \n\n                        disgust  fear  joy  negative  positive  sadness  \\\nreview_id                                                                 \nfj7N9Lp6AvEEy6LHrDZzjw      0.0   0.0  0.0       1.0       2.0      1.0   \nYX2cFHDxlUfGnQ8bHPq4cA      1.0   1.0  1.0       3.0       2.0      3.0   \npDN3hRBarmGWXbK64A83MA      3.0   1.0  1.0       7.0       2.0      2.0   \nae5On6KCPiglMQJ--1JcTQ      0.0   0.0  3.0       3.0       6.0      0.0   \ni5jMeyoJSbUrQ7T-AU22_A      2.0   1.0  1.0       4.0       3.0      1.0   \n\n                        surprise  trust  word_count  \nreview_id                                            \nfj7N9Lp6AvEEy6LHrDZzjw       0.0    1.0        26.0  \nYX2cFHDxlUfGnQ8bHPq4cA       0.0    1.0        33.0  \npDN3hRBarmGWXbK64A83MA       0.0    1.0        64.0  \nae5On6KCPiglMQJ--1JcTQ       1.0    3.0        23.0  \ni5jMeyoJSbUrQ7T-AU22_A       0.0    1.0        60.0  ",
      "text/html": "<div>\n<style scoped>\n    .dataframe tbody tr th:only-of-type {\n        vertical-align: middle;\n    }\n\n    .dataframe tbody tr th {\n        vertical-align: top;\n    }\n\n    .dataframe thead th {\n        text-align: right;\n    }\n</style>\n<table border=\"1\" class=\"dataframe\">\n  <thead>\n    <tr style=\"text-align: right;\">\n      <th></th>\n      <th>text</th>\n      <th>sentiment</th>\n      <th>stars</th>\n      <th>newstar</th>\n      <th>anger</th>\n      <th>anticipation</th>\n      <th>disgust</th>\n      <th>fear</th>\n      <th>joy</th>\n      <th>negative</th>\n      <th>positive</th>\n      <th>sadness</th>\n      <th>surprise</th>\n      <th>trust</th>\n      <th>word_count</th>\n    </tr>\n    <tr>\n      <th>review_id</th>\n      <th></th>\n      <th></th>\n      <th></th>\n      <th></th>\n      <th></th>\n      <th></th>\n      <th></th>\n      <th></th>\n      <th></th>\n      <th></th>\n      <th></th>\n      <th></th>\n      <th></th>\n      <th></th>\n      <th></th>\n    </tr>\n  </thead>\n  <tbody>\n    <tr>\n      <th>fj7N9Lp6AvEEy6LHrDZzjw</th>\n      <td>When I was shown to my seat of was still wet s...</td>\n      <td>-0.6437</td>\n      <td>2</td>\n      <td>1</td>\n      <td>0.0</td>\n      <td>1.0</td>\n      <td>0.0</td>\n      <td>0.0</td>\n      <td>0.0</td>\n      <td>1.0</td>\n      <td>2.0</td>\n      <td>1.0</td>\n      <td>0.0</td>\n      <td>1.0</td>\n      <td>26.0</td>\n    </tr>\n    <tr>\n      <th>YX2cFHDxlUfGnQ8bHPq4cA</th>\n      <td>Not Impressed at all. Ordered a omelette and b...</td>\n      <td>-0.8337</td>\n      <td>1</td>\n      <td>1</td>\n      <td>0.0</td>\n      <td>1.0</td>\n      <td>1.0</td>\n      <td>1.0</td>\n      <td>1.0</td>\n      <td>3.0</td>\n      <td>2.0</td>\n      <td>3.0</td>\n      <td>0.0</td>\n      <td>1.0</td>\n      <td>33.0</td>\n    </tr>\n    <tr>\n      <th>pDN3hRBarmGWXbK64A83MA</th>\n      <td>never coming back here again. all of the glass...</td>\n      <td>-0.3773</td>\n      <td>1</td>\n      <td>1</td>\n      <td>0.0</td>\n      <td>1.0</td>\n      <td>3.0</td>\n      <td>1.0</td>\n      <td>1.0</td>\n      <td>7.0</td>\n      <td>2.0</td>\n      <td>2.0</td>\n      <td>0.0</td>\n      <td>1.0</td>\n      <td>64.0</td>\n    </tr>\n    <tr>\n      <th>ae5On6KCPiglMQJ--1JcTQ</th>\n      <td>I don't recommend this place for breakfast. Th...</td>\n      <td>-0.7672</td>\n      <td>2</td>\n      <td>1</td>\n      <td>0.0</td>\n      <td>1.0</td>\n      <td>0.0</td>\n      <td>0.0</td>\n      <td>3.0</td>\n      <td>3.0</td>\n      <td>6.0</td>\n      <td>0.0</td>\n      <td>1.0</td>\n      <td>3.0</td>\n      <td>23.0</td>\n    </tr>\n    <tr>\n      <th>i5jMeyoJSbUrQ7T-AU22_A</th>\n      <td>Well, lots to say. Managers were busy makin co...</td>\n      <td>-0.3129</td>\n      <td>1</td>\n      <td>1</td>\n      <td>2.0</td>\n      <td>4.0</td>\n      <td>2.0</td>\n      <td>1.0</td>\n      <td>1.0</td>\n      <td>4.0</td>\n      <td>3.0</td>\n      <td>1.0</td>\n      <td>0.0</td>\n      <td>1.0</td>\n      <td>60.0</td>\n    </tr>\n  </tbody>\n</table>\n</div>"
     },
     "execution_count": 23,
     "metadata": {},
     "output_type": "execute_result"
    }
   ],
   "source": [
    "vader_emolex_rest.head()"
   ],
   "metadata": {
    "collapsed": false
   }
  },
  {
   "cell_type": "code",
   "execution_count": 24,
   "outputs": [],
   "source": [
    "vader_emolex_rest.to_json('data/vader_emolex_rest.json')\n",
    "vader_emolex_rest.to_csv('data/vader_emolex_rest.csv')"
   ],
   "metadata": {
    "collapsed": false
   }
  }
 ],
 "metadata": {
  "kernelspec": {
   "display_name": "Python 3",
   "language": "python",
   "name": "python3"
  },
  "language_info": {
   "codemirror_mode": {
    "name": "ipython",
    "version": 2
   },
   "file_extension": ".py",
   "mimetype": "text/x-python",
   "name": "python",
   "nbconvert_exporter": "python",
   "pygments_lexer": "ipython2",
   "version": "2.7.6"
  }
 },
 "nbformat": 4,
 "nbformat_minor": 0
}

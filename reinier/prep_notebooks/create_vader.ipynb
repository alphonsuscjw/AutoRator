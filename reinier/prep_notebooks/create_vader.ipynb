{
 "cells": [
  {
   "cell_type": "code",
   "execution_count": 1,
   "outputs": [],
   "source": [
    "import csv\n",
    "import pandas as pd\n",
    "from nltk.sentiment.vader import SentimentIntensityAnalyzer\n"
   ],
   "metadata": {
    "collapsed": false
   }
  },
  {
   "cell_type": "code",
   "execution_count": 3,
   "outputs": [],
   "source": [
    "# run the vader analysis and output the compound score (-1 to 1)\n",
    "sid = SentimentIntensityAnalyzer()\n",
    "output_rows = []\n",
    "with open('data/sql_subset.csv', 'r') as file:\n",
    "    reader = csv.DictReader(file)\n",
    "\n",
    "    for row in reader:\n",
    "\n",
    "            stars = row['stars']\n",
    "            review_id = row['review_id']\n",
    "            text = row['text']\n",
    "            sentiment_scores = sid.polarity_scores(text)\n",
    "            compound_score = sentiment_scores['compound']\n",
    "            positive_score = sentiment_scores['pos']\n",
    "            neutral_score = sentiment_scores['neu']\n",
    "            negative_score = sentiment_scores['neg']\n",
    "            output_row = {'review_id':review_id,'text':text, 'stars':stars, 'compound_sentiment': compound_score, 'positive': positive_score,\n",
    "                          'neutral': neutral_score, 'negative': negative_score}\n",
    "            output_rows.append(output_row)"
   ],
   "metadata": {
    "collapsed": false
   }
  },
  {
   "cell_type": "code",
   "execution_count": 4,
   "outputs": [],
   "source": [
    "output_df = pd.DataFrame(output_rows)"
   ],
   "metadata": {
    "collapsed": false
   }
  },
  {
   "cell_type": "code",
   "execution_count": 5,
   "outputs": [],
   "source": [
    "output_df.head()"
   ],
   "metadata": {
    "collapsed": false
   }
  },
  {
   "cell_type": "code",
   "execution_count": null,
   "outputs": [],
   "source": [
    "# drop na and change dtype stars to integer\n",
    "output_df = output_df.dropna()\n",
    "output_df['stars'] = output_df['stars'].str.slice(0,1)\n",
    "output_df['stars'] = output_df['stars'].astype(int)"
   ],
   "metadata": {
    "collapsed": false
   }
  },
  {
   "cell_type": "code",
   "execution_count": 6,
   "outputs": [],
   "source": [
    "output_df.to_csv('data/vader.csv', index=False)"
   ],
   "metadata": {
    "collapsed": false
   }
  },
  {
   "cell_type": "code",
   "execution_count": null,
   "outputs": [],
   "source": [
    "# create dataframes for various ranges in vader score\n",
    "# n_one_staradj= output_df.loc[(output_df['compound_sentiment'] >= -1) & (output_df['compound_sentiment'] <= -0.3), ['review_id','text','stars','positive','neutral','negative','compound_sentiment']]\n",
    "#\n",
    "# n_two_staradj = output_df.loc[(output_df['compound_sentiment'] >= -0.5) & (output_df['compound_sentiment'] <= 0.3), ['review_id','text','stars','positive','neutral','negative','compound_sentiment']]\n",
    "#\n",
    "# n_three_staradj = output_df.loc[(output_df['compound_sentiment'] >= 0.3) & (output_df['compound_sentiment'] <= 0.75),['review_id','text','stars','positive','neutral','negative','compound_sentiment']]\n",
    "#\n",
    "# n_four_staradj = output_df.loc[(output_df['compound_sentiment'] >= 0.75) & (output_df['compound_sentiment'] <= 0.95), ['review_id','text','stars','positive','neutral','negative','compound_sentiment']]\n",
    "#\n",
    "# n_five_staradj = output_df.loc[(output_df['compound_sentiment'] >= 0.95) & (output_df['compound_sentiment'] <= 1), ['review_id','text','stars','positive','neutral','negative','compound_sentiment']]"
   ],
   "metadata": {
    "collapsed": false
   }
  },
  {
   "cell_type": "code",
   "execution_count": null,
   "outputs": [],
   "source": [
    "# # add newstar column to the dataframes and merge\n",
    "# n_one_staradj['newstar']= 1\n",
    "# n_two_staradj['newstar']= 2\n",
    "# n_three_staradj['newstar']= 3\n",
    "# n_four_staradj['newstar']= 4\n",
    "# n_five_staradj['newstar']= 5\n",
    "#\n",
    "# newstar_df = pd.concat([n_one_staradj, n_two_staradj, n_three_staradj, n_four_staradj, n_five_staradj], axis=0)\n",
    "# newstar_df = newstar_df.set_index('review_id')\n",
    "# newstar_df = newstar_df[~newstar_df.index.duplicated(keep='first')]"
   ],
   "metadata": {
    "collapsed": false
   }
  },
  {
   "cell_type": "code",
   "execution_count": null,
   "outputs": [],
   "source": [
    "# newstar_df.head()"
   ],
   "metadata": {
    "collapsed": false
   }
  },
  {
   "cell_type": "code",
   "execution_count": 10,
   "outputs": [],
   "source": [
    "# newstar_df.to_csv('data/vader_newstar_df.csv')\n",
    "# newstar_df.to_json('data/vader_newstar_df.json')"
   ],
   "metadata": {
    "collapsed": false
   }
  },
  {
   "cell_type": "code",
   "execution_count": null,
   "outputs": [],
   "source": [],
   "metadata": {
    "collapsed": false
   }
  }
 ],
 "metadata": {
  "kernelspec": {
   "display_name": "Python 3",
   "language": "python",
   "name": "python3"
  },
  "language_info": {
   "codemirror_mode": {
    "name": "ipython",
    "version": 2
   },
   "file_extension": ".py",
   "mimetype": "text/x-python",
   "name": "python",
   "nbconvert_exporter": "python",
   "pygments_lexer": "ipython2",
   "version": "2.7.6"
  }
 },
 "nbformat": 4,
 "nbformat_minor": 0
}

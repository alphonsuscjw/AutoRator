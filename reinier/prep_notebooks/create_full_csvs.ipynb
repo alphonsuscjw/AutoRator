{
 "cells": [
  {
   "cell_type": "code",
   "execution_count": 2,
   "metadata": {
    "collapsed": true
   },
   "outputs": [],
   "source": [
    "import json\n",
    "import csv\n",
    "import pandas as pd\n",
    "from pathlib import Path"
   ]
  },
  {
   "cell_type": "code",
   "execution_count": 2,
   "outputs": [],
   "source": [
    "filePath = Path(\"data/yelp_dataset/yelp_academic_dataset_business.json\")\n",
    "df_business = pd.read_json(filePath,lines=True)\n",
    "# df_business.dropna(inplace=True)\n",
    "df_business.set_index('business_id', inplace=True)\n",
    "df_business = df_business[['name', 'categories']]\n",
    "\n",
    "df_business.to_csv('data/yelp_dataset/yelp_academic_dataset_business.csv')"
   ],
   "metadata": {
    "collapsed": false
   }
  },
  {
   "cell_type": "code",
   "execution_count": 7,
   "outputs": [
    {
     "name": "stdout",
     "output_type": "stream",
     "text": [
      "user_id         object\n",
      "business_id     object\n",
      "stars          float64\n",
      "useful           int64\n",
      "funny            int64\n",
      "cool             int64\n",
      "text            object\n",
      "date            object\n",
      "dtype: object\n"
     ]
    }
   ],
   "source": [
    "filePath = Path('data/yelp_dataset/yelp_academic_dataset_review.json')\n",
    "review_data = []\n",
    "with open(filePath, encoding=\"utf-8\") as file:\n",
    "    for line in file:\n",
    "        review_data.append(json.loads(line))\n",
    "df_reviews = pd.DataFrame(review_data)\n",
    "# drop na values\n",
    "df_reviews.dropna(inplace=True)\n",
    "df_reviews.set_index('review_id', inplace=True)\n",
    "\n"
   ],
   "metadata": {
    "collapsed": false
   }
  },
  {
   "cell_type": "code",
   "execution_count": 4,
   "outputs": [],
   "source": [
    "df_reviews.to_csv('data/yelp_dataset/yelp_academic_dataset_reviews.csv')"
   ],
   "metadata": {
    "collapsed": false
   }
  },
  {
   "cell_type": "code",
   "execution_count": 8,
   "outputs": [],
   "source": [
    "merged_df = pd.merge(df_business, df_reviews, on='business_id')"
   ],
   "metadata": {
    "collapsed": false
   }
  },
  {
   "cell_type": "code",
   "execution_count": 11,
   "outputs": [],
   "source": [
    "merged_df.to_csv('data/yelp_dataset/yelp_academic_dataset_merged.csv')\n",
    "merged_df.to_json('data/yelp_dataset/yelp_academic_dataset_merged.json')"
   ],
   "metadata": {
    "collapsed": false
   }
  },
  {
   "cell_type": "code",
   "execution_count": null,
   "outputs": [],
   "source": [],
   "metadata": {
    "collapsed": false
   }
  }
 ],
 "metadata": {
  "kernelspec": {
   "display_name": "Python 3",
   "language": "python",
   "name": "python3"
  },
  "language_info": {
   "codemirror_mode": {
    "name": "ipython",
    "version": 2
   },
   "file_extension": ".py",
   "mimetype": "text/x-python",
   "name": "python",
   "nbconvert_exporter": "python",
   "pygments_lexer": "ipython2",
   "version": "2.7.6"
  }
 },
 "nbformat": 4,
 "nbformat_minor": 0
}

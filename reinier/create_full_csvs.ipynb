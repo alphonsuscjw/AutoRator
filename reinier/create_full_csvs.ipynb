{
 "cells": [
  {
   "cell_type": "code",
   "execution_count": 1,
   "metadata": {
    "collapsed": true
   },
   "outputs": [],
   "source": [
    "import json\n",
    "import csv\n",
    "import pandas as pd\n",
    "from pathlib import Path"
   ]
  },
  {
   "cell_type": "code",
   "execution_count": 3,
   "outputs": [],
   "source": [
    "filePath = Path(\"data/yelp_dataset/yelp_academic_dataset_business.json\")\n",
    "df_business = pd.read_json(filePath,lines=True)\n",
    "df_business.to_csv('data/yelp_dataset/yelp_academic_dataset_business.csv')"
   ],
   "metadata": {
    "collapsed": false
   }
  },
  {
   "cell_type": "code",
   "execution_count": null,
   "outputs": [],
   "source": [
    "filePath = Path('data/yelp_dataset/yelp_academic_dataset_review.json')\n",
    "review_data = []\n",
    "with open(filePath, encoding=\"utf-8\") as file:\n",
    "    for line in file:\n",
    "        review_data.append(json.loads(line))\n",
    "\n",
    "pd.DataFrame(review_data).to_csv('data/yelp_dataset/yelp_academic_dataset_review.csv')"
   ],
   "metadata": {
    "collapsed": false,
    "pycharm": {
     "is_executing": true
    }
   }
  },
  {
   "cell_type": "code",
   "execution_count": null,
   "outputs": [],
   "source": [],
   "metadata": {
    "collapsed": false
   }
  }
 ],
 "metadata": {
  "kernelspec": {
   "display_name": "Python 3",
   "language": "python",
   "name": "python3"
  },
  "language_info": {
   "codemirror_mode": {
    "name": "ipython",
    "version": 2
   },
   "file_extension": ".py",
   "mimetype": "text/x-python",
   "name": "python",
   "nbconvert_exporter": "python",
   "pygments_lexer": "ipython2",
   "version": "2.7.6"
  }
 },
 "nbformat": 4,
 "nbformat_minor": 0
}

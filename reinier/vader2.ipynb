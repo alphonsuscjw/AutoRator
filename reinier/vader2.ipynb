{
 "cells": [
  {
   "cell_type": "code",
   "execution_count": 1,
   "outputs": [],
   "source": [
    "import json\n",
    "import csv\n",
    "import pandas as pd\n",
    "from pathlib import Path\n",
    "from nltk.sentiment.vader import SentimentIntensityAnalyzer\n",
    "\n",
    "\n",
    "sid = SentimentIntensityAnalyzer()"
   ],
   "metadata": {
    "collapsed": false
   }
  },
  {
   "cell_type": "code",
   "execution_count": 2,
   "outputs": [],
   "source": [
    "filePath = Path(\"yelp_dataset/yelp_academic_dataset_business.json\")\n",
    "df_business = pd.read_json(filePath,lines=True)\n",
    "\n",
    "df_restaurants = df_business[df_business['categories'].str.contains('Restaurants',na=False)]\n",
    "restaurant_ids = df_restaurants[['business_id', 'categories']]"
   ],
   "metadata": {
    "collapsed": false
   }
  },
  {
   "cell_type": "code",
   "execution_count": 3,
   "outputs": [],
   "source": [
    "review_data = []\n",
    "counter = 0\n",
    "filePath = Path('yelp_dataset/yelp_academic_dataset_review.json')\n",
    "with open(filePath, encoding=\"utf-8\") as file:\n",
    "    for line in file:\n",
    "        if counter < 800000:\n",
    "            review_data.append(json.loads(line))\n",
    "            counter += 1\n",
    "        else:\n",
    "            break\n",
    "\n",
    "df_review = pd.DataFrame(review_data)"
   ],
   "metadata": {
    "collapsed": false
   }
  },
  {
   "cell_type": "code",
   "execution_count": 4,
   "outputs": [],
   "source": [
    "reviews_restaurants = df_review.merge(restaurant_ids, on='business_id')\n",
    "# reviews_restaurants = reviews_restaurants[['stars','text']]\n",
    "reviews_restaurants.to_csv('reviews_restaurants.csv')"
   ],
   "metadata": {
    "collapsed": false
   }
  },
  {
   "cell_type": "code",
   "execution_count": 5,
   "metadata": {
    "collapsed": true
   },
   "outputs": [],
   "source": [
    "count = 0\n",
    "output_rows = []\n",
    "with open('reviews_restaurants.csv', 'r') as file:\n",
    "    reader = csv.DictReader(file)\n",
    "\n",
    "    for row in reader:\n",
    "        review = row['text']\n",
    "        stars = row['stars']\n",
    "        review_id = row['review_id']\n",
    "        sentiment_score = sid.polarity_scores(review)['compound']\n",
    "        output_row = {'review_id':review_id,'sentiment': sentiment_score, 'stars': stars}\n",
    "        output_rows.append(output_row)\n",
    "# output_df = pd.DataFrame(output_rows)\n"
   ]
  },
  {
   "cell_type": "code",
   "execution_count": 6,
   "outputs": [],
   "source": [
    "output_df = pd.DataFrame(output_rows)\n",
    "# output_df.to_csv(\"vader_365.csv\")\n",
    "# output_df.to_json(\"vader_365.json\")"
   ],
   "metadata": {
    "collapsed": false
   }
  },
  {
   "cell_type": "code",
   "execution_count": 14,
   "outputs": [],
   "source": [
    "output_df = output_df.dropna()\n",
    "output_df['stars'] = output_df['stars'].str.slice(0,1)\n",
    "output_df['stars'] = output_df['stars'].astype(int)"
   ],
   "metadata": {
    "collapsed": false
   }
  },
  {
   "cell_type": "code",
   "execution_count": 21,
   "outputs": [],
   "source": [
    "a_one_staradj= output_df.loc[(output_df['sentiment'] >= -1) & (output_df['sentiment'] <= -0.5) & (output_df['stars'] == 1), ['review_id','sentiment','stars']]\n",
    "\n",
    "# Second selection\n",
    "a_two_staradj = output_df.loc[(output_df['sentiment'] >= -0.5) & (output_df['sentiment'] <= 0.3) & (output_df['stars'] == 2), ['review_id','sentiment','stars']]\n",
    "a_three_staradj = output_df.loc[(output_df['sentiment'] >= 0.3) & (output_df['sentiment'] <= 0.75) & (output_df['stars'] == 3), ['review_id','sentiment','stars']]\n",
    "a_four_staradj = output_df.loc[(output_df['sentiment'] >= 0.75) & (output_df['sentiment'] <= 0.9) & (output_df['stars'] == 4), ['review_id','sentiment','stars']]\n",
    "a_five_staradj = output_df.loc[(output_df['sentiment'] >= 0.9) & (output_df['sentiment'] <= 1) & (output_df['stars'] == 5), ['review_id','sentiment','stars']]\n"
   ],
   "metadata": {
    "collapsed": false
   }
  },
  {
   "cell_type": "code",
   "execution_count": 10,
   "outputs": [
    {
     "data": {
      "text/plain": "review_id     object\nsentiment    float64\nstars         object\ndtype: object"
     },
     "execution_count": 10,
     "metadata": {},
     "output_type": "execute_result"
    }
   ],
   "source": [
    "output_df.dtypes"
   ],
   "metadata": {
    "collapsed": false
   }
  },
  {
   "cell_type": "code",
   "execution_count": null,
   "outputs": [],
   "source": [],
   "metadata": {
    "collapsed": false
   }
  }
 ],
 "metadata": {
  "kernelspec": {
   "display_name": "Python 3",
   "language": "python",
   "name": "python3"
  },
  "language_info": {
   "codemirror_mode": {
    "name": "ipython",
    "version": 2
   },
   "file_extension": ".py",
   "mimetype": "text/x-python",
   "name": "python",
   "nbconvert_exporter": "python",
   "pygments_lexer": "ipython2",
   "version": "2.7.6"
  }
 },
 "nbformat": 4,
 "nbformat_minor": 0
}

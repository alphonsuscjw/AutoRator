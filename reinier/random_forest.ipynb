{
 "cells": [
  {
   "cell_type": "code",
   "execution_count": 1,
   "metadata": {},
   "outputs": [],
   "source": [
    "# Initial imports\n",
    "import pandas as pd\n",
    "from pathlib import Path\n",
    "from sklearn.ensemble import RandomForestClassifier\n",
    "from sklearn.preprocessing import StandardScaler\n",
    "from sklearn.model_selection import train_test_split\n",
    "from sklearn.metrics import confusion_matrix, accuracy_score, classification_report"
   ]
  },
  {
   "cell_type": "code",
   "execution_count": 24,
   "metadata": {},
   "outputs": [
    {
     "data": {
      "text/plain": "   Unnamed: 0               review_id  \\\n0           0  fj7N9Lp6AvEEy6LHrDZzjw   \n1           1  YX2cFHDxlUfGnQ8bHPq4cA   \n2           2  pDN3hRBarmGWXbK64A83MA   \n3           3  ae5On6KCPiglMQJ--1JcTQ   \n4           4  i5jMeyoJSbUrQ7T-AU22_A   \n\n                                                text  stars  positive  \\\n0  When I was shown to my seat of was still wet s...      2     0.036   \n1  Not Impressed at all. Ordered a omelette and b...      1     0.078   \n2  never coming back here again. all of the glass...      1     0.065   \n3  I don't recommend this place for breakfast. Th...      2     0.000   \n4  Well, lots to say. Managers were busy makin co...      1     0.124   \n\n   neutral  negative  compound_sentiment  newstar  anger  anticipation  \\\n0    0.846     0.118             -0.6437        1    0.0           1.0   \n1    0.715     0.207             -0.8337        1    0.0           1.0   \n2    0.865     0.070             -0.3773        1    0.0           1.0   \n3    0.860     0.140             -0.7672        1    0.0           1.0   \n4    0.741     0.134             -0.3129        1    2.0           4.0   \n\n   disgust  fear  joy  negative.1  positive.1  sadness  surprise  trust  \\\n0      0.0   0.0  0.0         1.0         2.0      1.0       0.0    1.0   \n1      1.0   1.0  1.0         3.0         2.0      3.0       0.0    1.0   \n2      3.0   1.0  1.0         7.0         2.0      2.0       0.0    1.0   \n3      0.0   0.0  3.0         3.0         6.0      0.0       1.0    3.0   \n4      2.0   1.0  1.0         4.0         3.0      1.0       0.0    1.0   \n\n   word_count  \n0        26.0  \n1        33.0  \n2        64.0  \n3        23.0  \n4        60.0  ",
      "text/html": "<div>\n<style scoped>\n    .dataframe tbody tr th:only-of-type {\n        vertical-align: middle;\n    }\n\n    .dataframe tbody tr th {\n        vertical-align: top;\n    }\n\n    .dataframe thead th {\n        text-align: right;\n    }\n</style>\n<table border=\"1\" class=\"dataframe\">\n  <thead>\n    <tr style=\"text-align: right;\">\n      <th></th>\n      <th>Unnamed: 0</th>\n      <th>review_id</th>\n      <th>text</th>\n      <th>stars</th>\n      <th>positive</th>\n      <th>neutral</th>\n      <th>negative</th>\n      <th>compound_sentiment</th>\n      <th>newstar</th>\n      <th>anger</th>\n      <th>anticipation</th>\n      <th>disgust</th>\n      <th>fear</th>\n      <th>joy</th>\n      <th>negative.1</th>\n      <th>positive.1</th>\n      <th>sadness</th>\n      <th>surprise</th>\n      <th>trust</th>\n      <th>word_count</th>\n    </tr>\n  </thead>\n  <tbody>\n    <tr>\n      <th>0</th>\n      <td>0</td>\n      <td>fj7N9Lp6AvEEy6LHrDZzjw</td>\n      <td>When I was shown to my seat of was still wet s...</td>\n      <td>2</td>\n      <td>0.036</td>\n      <td>0.846</td>\n      <td>0.118</td>\n      <td>-0.6437</td>\n      <td>1</td>\n      <td>0.0</td>\n      <td>1.0</td>\n      <td>0.0</td>\n      <td>0.0</td>\n      <td>0.0</td>\n      <td>1.0</td>\n      <td>2.0</td>\n      <td>1.0</td>\n      <td>0.0</td>\n      <td>1.0</td>\n      <td>26.0</td>\n    </tr>\n    <tr>\n      <th>1</th>\n      <td>1</td>\n      <td>YX2cFHDxlUfGnQ8bHPq4cA</td>\n      <td>Not Impressed at all. Ordered a omelette and b...</td>\n      <td>1</td>\n      <td>0.078</td>\n      <td>0.715</td>\n      <td>0.207</td>\n      <td>-0.8337</td>\n      <td>1</td>\n      <td>0.0</td>\n      <td>1.0</td>\n      <td>1.0</td>\n      <td>1.0</td>\n      <td>1.0</td>\n      <td>3.0</td>\n      <td>2.0</td>\n      <td>3.0</td>\n      <td>0.0</td>\n      <td>1.0</td>\n      <td>33.0</td>\n    </tr>\n    <tr>\n      <th>2</th>\n      <td>2</td>\n      <td>pDN3hRBarmGWXbK64A83MA</td>\n      <td>never coming back here again. all of the glass...</td>\n      <td>1</td>\n      <td>0.065</td>\n      <td>0.865</td>\n      <td>0.070</td>\n      <td>-0.3773</td>\n      <td>1</td>\n      <td>0.0</td>\n      <td>1.0</td>\n      <td>3.0</td>\n      <td>1.0</td>\n      <td>1.0</td>\n      <td>7.0</td>\n      <td>2.0</td>\n      <td>2.0</td>\n      <td>0.0</td>\n      <td>1.0</td>\n      <td>64.0</td>\n    </tr>\n    <tr>\n      <th>3</th>\n      <td>3</td>\n      <td>ae5On6KCPiglMQJ--1JcTQ</td>\n      <td>I don't recommend this place for breakfast. Th...</td>\n      <td>2</td>\n      <td>0.000</td>\n      <td>0.860</td>\n      <td>0.140</td>\n      <td>-0.7672</td>\n      <td>1</td>\n      <td>0.0</td>\n      <td>1.0</td>\n      <td>0.0</td>\n      <td>0.0</td>\n      <td>3.0</td>\n      <td>3.0</td>\n      <td>6.0</td>\n      <td>0.0</td>\n      <td>1.0</td>\n      <td>3.0</td>\n      <td>23.0</td>\n    </tr>\n    <tr>\n      <th>4</th>\n      <td>4</td>\n      <td>i5jMeyoJSbUrQ7T-AU22_A</td>\n      <td>Well, lots to say. Managers were busy makin co...</td>\n      <td>1</td>\n      <td>0.124</td>\n      <td>0.741</td>\n      <td>0.134</td>\n      <td>-0.3129</td>\n      <td>1</td>\n      <td>2.0</td>\n      <td>4.0</td>\n      <td>2.0</td>\n      <td>1.0</td>\n      <td>1.0</td>\n      <td>4.0</td>\n      <td>3.0</td>\n      <td>1.0</td>\n      <td>0.0</td>\n      <td>1.0</td>\n      <td>60.0</td>\n    </tr>\n  </tbody>\n</table>\n</div>"
     },
     "execution_count": 24,
     "metadata": {},
     "output_type": "execute_result"
    }
   ],
   "source": [
    "data = Path('data/subset_2000.csv')\n",
    "df = pd.read_csv(data)\n",
    "df.head()"
   ]
  },
  {
   "cell_type": "code",
   "execution_count": 25,
   "metadata": {},
   "outputs": [
    {
     "data": {
      "text/plain": "   stars  positive  neutral  negative  compound_sentiment  newstar  anger  \\\n0      2     0.036    0.846     0.118             -0.6437        1    0.0   \n1      1     0.078    0.715     0.207             -0.8337        1    0.0   \n2      1     0.065    0.865     0.070             -0.3773        1    0.0   \n3      2     0.000    0.860     0.140             -0.7672        1    0.0   \n4      1     0.124    0.741     0.134             -0.3129        1    2.0   \n\n   anticipation  disgust  fear  joy  negative.1  positive.1  sadness  \\\n0           1.0      0.0   0.0  0.0         1.0         2.0      1.0   \n1           1.0      1.0   1.0  1.0         3.0         2.0      3.0   \n2           1.0      3.0   1.0  1.0         7.0         2.0      2.0   \n3           1.0      0.0   0.0  3.0         3.0         6.0      0.0   \n4           4.0      2.0   1.0  1.0         4.0         3.0      1.0   \n\n   surprise  trust  word_count  \n0       0.0    1.0        26.0  \n1       0.0    1.0        33.0  \n2       0.0    1.0        64.0  \n3       1.0    3.0        23.0  \n4       0.0    1.0        60.0  ",
      "text/html": "<div>\n<style scoped>\n    .dataframe tbody tr th:only-of-type {\n        vertical-align: middle;\n    }\n\n    .dataframe tbody tr th {\n        vertical-align: top;\n    }\n\n    .dataframe thead th {\n        text-align: right;\n    }\n</style>\n<table border=\"1\" class=\"dataframe\">\n  <thead>\n    <tr style=\"text-align: right;\">\n      <th></th>\n      <th>stars</th>\n      <th>positive</th>\n      <th>neutral</th>\n      <th>negative</th>\n      <th>compound_sentiment</th>\n      <th>newstar</th>\n      <th>anger</th>\n      <th>anticipation</th>\n      <th>disgust</th>\n      <th>fear</th>\n      <th>joy</th>\n      <th>negative.1</th>\n      <th>positive.1</th>\n      <th>sadness</th>\n      <th>surprise</th>\n      <th>trust</th>\n      <th>word_count</th>\n    </tr>\n  </thead>\n  <tbody>\n    <tr>\n      <th>0</th>\n      <td>2</td>\n      <td>0.036</td>\n      <td>0.846</td>\n      <td>0.118</td>\n      <td>-0.6437</td>\n      <td>1</td>\n      <td>0.0</td>\n      <td>1.0</td>\n      <td>0.0</td>\n      <td>0.0</td>\n      <td>0.0</td>\n      <td>1.0</td>\n      <td>2.0</td>\n      <td>1.0</td>\n      <td>0.0</td>\n      <td>1.0</td>\n      <td>26.0</td>\n    </tr>\n    <tr>\n      <th>1</th>\n      <td>1</td>\n      <td>0.078</td>\n      <td>0.715</td>\n      <td>0.207</td>\n      <td>-0.8337</td>\n      <td>1</td>\n      <td>0.0</td>\n      <td>1.0</td>\n      <td>1.0</td>\n      <td>1.0</td>\n      <td>1.0</td>\n      <td>3.0</td>\n      <td>2.0</td>\n      <td>3.0</td>\n      <td>0.0</td>\n      <td>1.0</td>\n      <td>33.0</td>\n    </tr>\n    <tr>\n      <th>2</th>\n      <td>1</td>\n      <td>0.065</td>\n      <td>0.865</td>\n      <td>0.070</td>\n      <td>-0.3773</td>\n      <td>1</td>\n      <td>0.0</td>\n      <td>1.0</td>\n      <td>3.0</td>\n      <td>1.0</td>\n      <td>1.0</td>\n      <td>7.0</td>\n      <td>2.0</td>\n      <td>2.0</td>\n      <td>0.0</td>\n      <td>1.0</td>\n      <td>64.0</td>\n    </tr>\n    <tr>\n      <th>3</th>\n      <td>2</td>\n      <td>0.000</td>\n      <td>0.860</td>\n      <td>0.140</td>\n      <td>-0.7672</td>\n      <td>1</td>\n      <td>0.0</td>\n      <td>1.0</td>\n      <td>0.0</td>\n      <td>0.0</td>\n      <td>3.0</td>\n      <td>3.0</td>\n      <td>6.0</td>\n      <td>0.0</td>\n      <td>1.0</td>\n      <td>3.0</td>\n      <td>23.0</td>\n    </tr>\n    <tr>\n      <th>4</th>\n      <td>1</td>\n      <td>0.124</td>\n      <td>0.741</td>\n      <td>0.134</td>\n      <td>-0.3129</td>\n      <td>1</td>\n      <td>2.0</td>\n      <td>4.0</td>\n      <td>2.0</td>\n      <td>1.0</td>\n      <td>1.0</td>\n      <td>4.0</td>\n      <td>3.0</td>\n      <td>1.0</td>\n      <td>0.0</td>\n      <td>1.0</td>\n      <td>60.0</td>\n    </tr>\n  </tbody>\n</table>\n</div>"
     },
     "execution_count": 25,
     "metadata": {},
     "output_type": "execute_result"
    }
   ],
   "source": [
    "df = df.drop(columns=[\"Unnamed: 0\", 'review_id','text'])\n",
    "df.head()"
   ]
  },
  {
   "cell_type": "code",
   "execution_count": 26,
   "metadata": {},
   "outputs": [],
   "source": [
    "y = df[\"newstar\"]\n",
    "X = df.drop(columns=(\"newstar\"))\n"
   ]
  },
  {
   "cell_type": "code",
   "execution_count": 27,
   "metadata": {},
   "outputs": [],
   "source": [
    "# Splitting into Train and Test sets\n",
    "X_train, X_test, y_train, y_test = train_test_split(X, y, random_state=78)"
   ]
  },
  {
   "cell_type": "code",
   "execution_count": 28,
   "metadata": {},
   "outputs": [],
   "source": [
    "# Creating StandardScaler instance\n",
    "scaler = StandardScaler()\n",
    "\n",
    "# Fit the Standard Scaler with the training data\n",
    "X_scaler = scaler.fit(X_train)\n",
    "\n",
    "# Scaling data\n",
    "X_train_scaled = X_scaler.transform(X_train)\n",
    "X_test_scaled = X_scaler.transform(X_test)"
   ]
  },
  {
   "cell_type": "code",
   "execution_count": 29,
   "metadata": {},
   "outputs": [],
   "source": [
    "# Create a random forest classifier\n",
    "rf_model = RandomForestClassifier(n_estimators=1000, random_state=78)"
   ]
  },
  {
   "cell_type": "code",
   "execution_count": 30,
   "metadata": {},
   "outputs": [],
   "source": [
    "# Fitting the model\n",
    "rf_model = rf_model.fit(X_train_scaled, y_train)"
   ]
  },
  {
   "cell_type": "code",
   "execution_count": 31,
   "metadata": {},
   "outputs": [],
   "source": [
    "# Making predictions using the testing data\n",
    "predictions = rf_model.predict(X_test_scaled)"
   ]
  },
  {
   "cell_type": "code",
   "execution_count": 32,
   "metadata": {},
   "outputs": [
    {
     "data": {
      "text/plain": "0.9996"
     },
     "execution_count": 32,
     "metadata": {},
     "output_type": "execute_result"
    }
   ],
   "source": [
    "# Calculating the accuracy score\n",
    "acc_score = accuracy_score(y_test, predictions)\n",
    "acc_score"
   ]
  },
  {
   "cell_type": "code",
   "execution_count": null,
   "metadata": {},
   "outputs": [],
   "source": []
  }
 ],
 "metadata": {
  "kernelspec": {
   "display_name": "PythonData",
   "language": "python",
   "name": "python3"
  },
  "language_info": {
   "codemirror_mode": {
    "name": "ipython",
    "version": 3
   },
   "file_extension": ".py",
   "mimetype": "text/x-python",
   "name": "python",
   "nbconvert_exporter": "python",
   "pygments_lexer": "ipython3",
   "version": "3.7.7"
  },
  "orig_nbformat": 4
 },
 "nbformat": 4,
 "nbformat_minor": 2
}

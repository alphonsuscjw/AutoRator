{
 "cells": [
  {
   "cell_type": "code",
   "execution_count": 1,
   "metadata": {
    "collapsed": true
   },
   "outputs": [],
   "source": [
    "import json\n",
    "import csv\n",
    "import pandas as pd\n",
    "import matplotlib.pyplot as plt\n"
   ]
  },
  {
   "cell_type": "code",
   "execution_count": 2,
   "outputs": [
    {
     "data": {
      "text/plain": "               business_id                                         categories\n3   MTSW4McQd7CbVtyjqoe9mw  Restaurants, Food, Bubble Tea, Coffee & Tea, B...\n5   CF33F8-E6oudUQ46HnavjQ  Burgers, Fast Food, Sandwiches, Food, Ice Crea...\n8   k0hlBqXX-Bt0vf1op7Jr1w  Pubs, Restaurants, Italian, Bars, American (Tr...\n9   bBDDEgkFA1Otx9Lfe7BZUQ  Ice Cream & Frozen Yogurt, Fast Food, Burgers,...\n11  eEOYSgkmpB90uNA7lDOMRA         Vietnamese, Food, Restaurants, Food Trucks",
      "text/html": "<div>\n<style scoped>\n    .dataframe tbody tr th:only-of-type {\n        vertical-align: middle;\n    }\n\n    .dataframe tbody tr th {\n        vertical-align: top;\n    }\n\n    .dataframe thead th {\n        text-align: right;\n    }\n</style>\n<table border=\"1\" class=\"dataframe\">\n  <thead>\n    <tr style=\"text-align: right;\">\n      <th></th>\n      <th>business_id</th>\n      <th>categories</th>\n    </tr>\n  </thead>\n  <tbody>\n    <tr>\n      <th>3</th>\n      <td>MTSW4McQd7CbVtyjqoe9mw</td>\n      <td>Restaurants, Food, Bubble Tea, Coffee &amp; Tea, B...</td>\n    </tr>\n    <tr>\n      <th>5</th>\n      <td>CF33F8-E6oudUQ46HnavjQ</td>\n      <td>Burgers, Fast Food, Sandwiches, Food, Ice Crea...</td>\n    </tr>\n    <tr>\n      <th>8</th>\n      <td>k0hlBqXX-Bt0vf1op7Jr1w</td>\n      <td>Pubs, Restaurants, Italian, Bars, American (Tr...</td>\n    </tr>\n    <tr>\n      <th>9</th>\n      <td>bBDDEgkFA1Otx9Lfe7BZUQ</td>\n      <td>Ice Cream &amp; Frozen Yogurt, Fast Food, Burgers,...</td>\n    </tr>\n    <tr>\n      <th>11</th>\n      <td>eEOYSgkmpB90uNA7lDOMRA</td>\n      <td>Vietnamese, Food, Restaurants, Food Trucks</td>\n    </tr>\n  </tbody>\n</table>\n</div>"
     },
     "execution_count": 2,
     "metadata": {},
     "output_type": "execute_result"
    }
   ],
   "source": [
    "df_business = pd.read_json(\"yelp_dataset/yelp_academic_dataset_business.json\",lines=True)\n",
    "df_restaurants =df_business[df_business['categories'].str.contains('Restaurants',na=False)]\n",
    "restaurant_ids = df_restaurants[['business_id', 'categories']]\n",
    "restaurant_ids.head()"
   ],
   "metadata": {
    "collapsed": false
   }
  },
  {
   "cell_type": "code",
   "execution_count": 3,
   "outputs": [],
   "source": [
    "review_data = []\n",
    "counter = 0\n",
    "with open('yelp_dataset/yelp_academic_dataset_review.json') as file:\n",
    "    for line in file:\n",
    "        if counter < 1000000:\n",
    "            review_data.append(json.loads(line))\n",
    "            counter += 1\n",
    "        else:\n",
    "            break\n",
    "df_review = pd.DataFrame(review_data)"
   ],
   "metadata": {
    "collapsed": false
   }
  },
  {
   "cell_type": "code",
   "execution_count": 4,
   "outputs": [],
   "source": [
    "# merge dataframes using restaurant_ids only\n",
    "reviews_restaurants = df_review.merge(restaurant_ids, on='business_id')\n",
    "reviews_restaurants = reviews_restaurants[['review_id','stars','text']]\n",
    "reviews_restaurants = reviews_restaurants.set_index('review_id')\n"
   ],
   "metadata": {
    "collapsed": false
   }
  },
  {
   "cell_type": "code",
   "execution_count": 7,
   "outputs": [],
   "source": [
    "stars = [1,2,3,4,5]\n",
    "\n",
    "subset_200000_rest = pd.DataFrame()\n",
    "for i in stars:\n",
    "    temp = reviews_restaurants.loc[reviews_restaurants['stars'] == i].head(40000)\n",
    "    subset_200000_rest = pd.concat([subset_200000_rest, temp])"
   ],
   "metadata": {
    "collapsed": false
   }
  },
  {
   "cell_type": "code",
   "execution_count": 9,
   "outputs": [],
   "source": [
    "subset_200000_rest.to_csv(\"yelp_dataset/subset_200000_rest.csv\")\n",
    "subset_200000_rest.to_json(\"yelp_dataset/subset_200000_rest.json\")"
   ],
   "metadata": {
    "collapsed": false
   }
  },
  {
   "cell_type": "code",
   "execution_count": 6,
   "outputs": [],
   "source": [],
   "metadata": {
    "collapsed": false
   }
  }
 ],
 "metadata": {
  "kernelspec": {
   "display_name": "Python 3",
   "language": "python",
   "name": "python3"
  },
  "language_info": {
   "codemirror_mode": {
    "name": "ipython",
    "version": 2
   },
   "file_extension": ".py",
   "mimetype": "text/x-python",
   "name": "python",
   "nbconvert_exporter": "python",
   "pygments_lexer": "ipython2",
   "version": "2.7.6"
  }
 },
 "nbformat": 4,
 "nbformat_minor": 0
}

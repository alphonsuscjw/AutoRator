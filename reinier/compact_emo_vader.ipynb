{
 "cells": [
  {
   "cell_type": "code",
   "execution_count": null,
   "outputs": [],
   "source": [
    "from nltk.sentiment.vader import SentimentIntensityAnalyzer\n",
    "import string\n",
    "import pandas as pd\n",
    "from nltk.corpus import stopwords\n",
    "sid = SentimentIntensityAnalyzer()"
   ],
   "metadata": {
    "collapsed": false
   }
  },
  {
   "cell_type": "code",
   "execution_count": null,
   "outputs": [],
   "source": [
    "# setup emolex\n",
    "emolex_df = pd.read_csv('data/NRC-Emotion-Lexicon-Wordlevel-v0.92.txt', sep='\\t', names=['word', 'emotion','association'])\n",
    "emolex_df = emolex_df[emolex_df.association == 1]\n",
    "emolex_words = emolex_df.pivot(index='word', columns='emotion', values='association')\n",
    "emolex_words = emolex_words.reset_index()"
   ],
   "metadata": {
    "collapsed": false
   }
  },
  {
   "cell_type": "code",
   "execution_count": null,
   "outputs": [],
   "source": [
    "\n",
    "documents = ['Text good bad scary danger  1', 'This cozy restaurant has left the best impressions! Hospitable hosts, delicious dishes, beautiful presentation, wide wine list and wonderful dessert. I recommend to everyone! I would like to come back here again and again.', 'This Restaurant was amazing! bad and good test for yummy']"
   ],
   "metadata": {
    "collapsed": false
   }
  },
  {
   "cell_type": "code",
   "execution_count": null,
   "outputs": [],
   "source": [
    "def emolex(text):\n",
    "    text = text.translate(str.maketrans('', '', string.punctuation)).lower()\n",
    "    words = text.split()\n",
    "    stop_words = set(stopwords.words('english'))\n",
    "    words = [word for word in words if word not in stop_words]\n",
    "    emotions_count = emolex_words[emolex_words.word.isin(words)].sum()\n",
    "    emotions_count['word_count'] = len(words)\n",
    "    return emotions_count\n",
    "\n",
    "def vader(text):\n",
    "    sentiment_scores = sid.polarity_scores(text)\n",
    "    compound_score = sentiment_scores['compound']\n",
    "    positive_score = sentiment_scores['pos']\n",
    "    neutral_score = sentiment_scores['neu']\n",
    "    negative_score = sentiment_scores['neg']\n",
    "    output_row = {'text':text, 'compound_sentiment': compound_score, 'positive': positive_score,\n",
    "                  'neutral': neutral_score, 'negative': negative_score}\n",
    "    return output_row"
   ],
   "metadata": {
    "collapsed": false
   }
  },
  {
   "cell_type": "code",
   "execution_count": null,
   "outputs": [],
   "source": [
    "output_rows = []\n",
    "emotions_output = []\n",
    "for doc in documents:\n",
    "    output_row = vader(doc)\n",
    "    output_rows.append(output_row)\n",
    "    emotions_count = emolex(doc)\n",
    "    emotions_output.append(emotions_count)\n",
    "vader_df = pd.DataFrame(output_rows)\n",
    "emolex_df = pd.DataFrame(emotions_output)"
   ],
   "metadata": {
    "collapsed": false
   }
  },
  {
   "cell_type": "code",
   "execution_count": null,
   "outputs": [],
   "source": [
    "# output_rows = []\n",
    "# output_row = vader(text)\n",
    "# output_rows.append(output_row)\n",
    "# emotions_count = emolex(text)\n",
    "# df = pd.DataFrame(emotions_count)\n",
    "# output_df = pd.DataFrame(output_rows)\n",
    "# output_df.head()"
   ],
   "metadata": {
    "collapsed": false
   }
  },
  {
   "cell_type": "code",
   "execution_count": null,
   "outputs": [],
   "source": [],
   "metadata": {
    "collapsed": false
   }
  }
 ],
 "metadata": {
  "kernelspec": {
   "display_name": "Python 3",
   "language": "python",
   "name": "python3"
  },
  "language_info": {
   "codemirror_mode": {
    "name": "ipython",
    "version": 2
   },
   "file_extension": ".py",
   "mimetype": "text/x-python",
   "name": "python",
   "nbconvert_exporter": "python",
   "pygments_lexer": "ipython2",
   "version": "2.7.6"
  }
 },
 "nbformat": 4,
 "nbformat_minor": 0
}
